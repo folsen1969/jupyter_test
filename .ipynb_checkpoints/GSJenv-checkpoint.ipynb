{
 "cells": [
  {
   "cell_type": "code",
   "execution_count": 4,
   "id": "8791e884",
   "metadata": {},
   "outputs": [
    {
     "name": "stdout",
     "output_type": "stream",
     "text": [
      "Hello, World!\n"
     ]
    }
   ],
   "source": [
    "def hw():\n",
    "    print (\"Hello, World!\")\n",
    "    \n",
    "hw()"
   ]
  },
  {
   "cell_type": "markdown",
   "id": "a137722a",
   "metadata": {},
   "source": [
    "# Learn Jupyter from Manning liveproject\n",
    "Used the link https://www.markdowntutorial.com/lesson/2/"
   ]
  },
  {
   "cell_type": "code",
   "execution_count": null,
   "id": "ddf081b6",
   "metadata": {},
   "outputs": [],
   "source": []
  }
 ],
 "metadata": {
  "kernelspec": {
   "display_name": "Python 3 (ipykernel)",
   "language": "python",
   "name": "python3"
  },
  "language_info": {
   "codemirror_mode": {
    "name": "ipython",
    "version": 3
   },
   "file_extension": ".py",
   "mimetype": "text/x-python",
   "name": "python",
   "nbconvert_exporter": "python",
   "pygments_lexer": "ipython3",
   "version": "3.9.7"
  }
 },
 "nbformat": 4,
 "nbformat_minor": 5
}
